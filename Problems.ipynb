{
 "cells": [
  {
   "cell_type": "code",
   "execution_count": 78,
   "id": "562cdd87-0c7b-48b2-8728-80a0ef16bd31",
   "metadata": {},
   "outputs": [],
   "source": [
    "import numpy as np\n",
    "import pandas as pd\n",
    "from scipy.stats import t"
   ]
  },
  {
   "cell_type": "markdown",
   "id": "0ffa65fa-2edb-4d70-8b04-131c8eb18d36",
   "metadata": {},
   "source": [
    "### __Question 1__\n",
    "\n",
    "A factory claims avg. wieight of cereal box is 500 grams. A sample of 64 boxes is taken at random with a mean of 490 grams and population standard deviation is 15 grams (sigma) with significance level at 5%. Determine the validity of this claim using hypothesis testing."
   ]
  },
  {
   "cell_type": "markdown",
   "id": "049aa0bd-14c6-4b2a-a88e-1abf0d270e9a",
   "metadata": {},
   "source": [
    "#### __Solution:__\n",
    "\n",
    "- It is a two-tailed test as it is not mentioned if it is a one-tailed test.\n",
    "- It is a one-sample test.\n",
    "- It qualifies for Z-test as sample size > 30 and population standard deviation is known.\n",
    "- Since, it is a two-tailed test, Z-score will be (α / 2) = (0.05 / 2) = 0.025.\n",
    "- So, Z value will be from __-1.96__ to __1.96__. ($Z_{critical}$)"
   ]
  },
  {
   "cell_type": "code",
   "execution_count": 24,
   "id": "545a57da-c7e7-4bda-8cb0-db4d2358cfc6",
   "metadata": {},
   "outputs": [
    {
     "data": {
      "text/plain": [
       "-5.333333333333333"
      ]
     },
     "execution_count": 24,
     "metadata": {},
     "output_type": "execute_result"
    }
   ],
   "source": [
    "x_bar = 490\n",
    "mu = 500\n",
    "sigma = 15\n",
    "n = 64\n",
    "\n",
    "Z = (x_bar - mu) / (sigma/np.sqrt(n))\n",
    "Z"
   ]
  },
  {
   "cell_type": "markdown",
   "id": "17bbf32b-c35c-4073-9bb2-24007a8db73c",
   "metadata": {},
   "source": [
    "##### __Observation:__\n",
    "\n",
    "- Here, __Z statistic__ is coming as -5.33 which lies outside the acceptance region (i.e less than) between `-2.576` to `2.576`.\n",
    "- Hence, we can reject the null hypothesis.\n",
    "- So, the claim made by the company stating that the average weight of the box being 500 grams is incorrect."
   ]
  },
  {
   "cell_type": "markdown",
   "id": "adc15126-4a69-4976-b29c-e0795ad07f52",
   "metadata": {},
   "source": [
    "### __Question 2__\n",
    "\n",
    "A company claims the average battery life of their batteries is 300  hours. A sample of 100 batteries is taken at random and they show average of 295 hours and population standard deviation of 10 hours at significance level of 1%. Determine the validity of this claim using hypothesis testing."
   ]
  },
  {
   "attachments": {},
   "cell_type": "markdown",
   "id": "0aa4fb06-b3b6-455f-b87b-9415853fb399",
   "metadata": {},
   "source": [
    "#### __Solution:__\n",
    "\n",
    "- It is a two-tailed test as it is not mentioned if it is a one-tailed test.\n",
    "- It is a one-sample test.\n",
    "- It qualifies for Z-test as sample size > 30 and population standard deviation is known.\n",
    "- Since, it is a two-tailed test, Z-score will be (α / 2) = (0.01 / 2) = 0.005.\n",
    "- So, Z value will be __-2.57__ to __2.57__. ($Z_{critical}$)\n",
    "\n",
    "* $H_0$ = 300\n",
    "* $H_A$ $\\neq$ 300"
   ]
  },
  {
   "cell_type": "code",
   "execution_count": 29,
   "id": "231b1fda-6135-462a-ac4c-ea8397b747d4",
   "metadata": {},
   "outputs": [
    {
     "data": {
      "text/plain": [
       "-5.0"
      ]
     },
     "execution_count": 29,
     "metadata": {},
     "output_type": "execute_result"
    }
   ],
   "source": [
    "x_bar = 295\n",
    "mu = 300\n",
    "sigma = 10\n",
    "n = 100\n",
    "\n",
    "Z = (x_bar - mu) / (sigma/np.sqrt(n))\n",
    "Z"
   ]
  },
  {
   "cell_type": "markdown",
   "id": "f9140660-2764-4225-9bc1-84a77c840040",
   "metadata": {},
   "source": [
    "##### __Observation:__\n",
    "\n",
    "- Here, __Z statistic__ is coming as -5 which lies outside the acceptance region (i.e. less than) between `-2.57` to `2.57`.\n",
    "- Hence, we can reject the null hypothesis.\n",
    "- So, the claim made by the company stating that the average battery life of their batteries being 300 hours is incorrect."
   ]
  },
  {
   "cell_type": "markdown",
   "id": "e9f706c8-bb03-4357-b97d-6e622a0a003d",
   "metadata": {},
   "source": [
    "### __Question 3__\n",
    "\n",
    "In a company, there is a Group A which has 40 employees and average productivity of 120 units and standard deviation of 15. Group B has 50 employees with average productivity of 125 units and standard deviation of 20. Is there a significant difference between their productivities at a significance level of 5%."
   ]
  },
  {
   "cell_type": "markdown",
   "id": "96c060e1-746a-453f-9c47-bed416e3c8fa",
   "metadata": {},
   "source": [
    "#### __Solution:__\n",
    "\n",
    "- It is a two-tailed test as it is not mentioned if it is a one-tailed test.\n",
    "- It is a two-sample test.\n",
    "- It qualifies for Z-test as sample size > 30 and population standard deviation is known.\n",
    "- Since, it is a two-tailed test, Z-score will be (α / 2) = (0.05 / 2) = 0.025.\n",
    "- So, Z value will be __-1.96__ to __1.96__. ($Z_{critical}$)"
   ]
  },
  {
   "cell_type": "code",
   "execution_count": 34,
   "id": "4f073b76-dd80-410c-b382-a2139132e046",
   "metadata": {},
   "outputs": [
    {
     "data": {
      "text/plain": [
       "-1.3545709229571927"
      ]
     },
     "execution_count": 34,
     "metadata": {},
     "output_type": "execute_result"
    }
   ],
   "source": [
    "x_bar1 = 120\n",
    "sigma_1 = 15\n",
    "n_1 = 40\n",
    "\n",
    "x_bar2 = 125\n",
    "sigma_2 = 20\n",
    "n_2 = 50\n",
    "\n",
    "Z = (x_bar1 - x_bar2) / np.sqrt(np.square(sigma_1)/n_1 + np.square(sigma_2)/n_2)\n",
    "Z"
   ]
  },
  {
   "cell_type": "code",
   "execution_count": 36,
   "id": "ad26eac0-71f0-495a-a501-c27c0c73f93f",
   "metadata": {},
   "outputs": [
    {
     "data": {
      "text/plain": [
       "True"
      ]
     },
     "execution_count": 36,
     "metadata": {},
     "output_type": "execute_result"
    }
   ],
   "source": [
    "-1.35 > -1.96"
   ]
  },
  {
   "cell_type": "markdown",
   "id": "10cb980d-d41a-4cbf-bf23-2c596ca31d00",
   "metadata": {},
   "source": [
    "##### __Observation:__\n",
    "\n",
    "- Here, __Z statistic__ is coming as -1.36 which lies inside the acceptance region or confidence interval between `-1.96` to `1.96`.\n",
    "- Hence, we fail to reject the null hypothesis, i.e. accept the null hypothesis.\n",
    "- So, there is no significant difference between the two groups' productivity, i.e. they are working at the same productivity level."
   ]
  },
  {
   "cell_type": "markdown",
   "id": "f27335e8-7c0f-424d-a271-6daf258d1959",
   "metadata": {},
   "source": [
    "### __Question 4__\n",
    "\n",
    "Medicine A reduces b.p  by 10 mmHg for a sample size of 60 and standard deviation at 2. Medicine B reduces b.p by 12 mmHg for a sample size of 70 and standard deviation at 2.5. Significance level is 5%."
   ]
  },
  {
   "cell_type": "markdown",
   "id": "628c12fe-9af6-434c-baec-745bfb4cd4fb",
   "metadata": {},
   "source": [
    "#### __Solution:__\n",
    "\n",
    "- It is a two-tailed test as it is not mentioned if it is a one-tailed test.\n",
    "- It is a two-sample test.\n",
    "- It qualifies for Z-test as sample size > 30 and population standard deviation is known.\n",
    "- Since, it is a two-tailed test, Z-score will be (α / 2) = (0.05 / 2) = 0.025.\n",
    "- So, Z value will be __-1.96__ to __1.96__. ($Z_{critical}$)"
   ]
  },
  {
   "cell_type": "code",
   "execution_count": 41,
   "id": "0de07ccb-8d15-4a23-aecd-181ed07e0c85",
   "metadata": {},
   "outputs": [
    {
     "data": {
      "text/plain": [
       "-5.064469859899658"
      ]
     },
     "execution_count": 41,
     "metadata": {},
     "output_type": "execute_result"
    }
   ],
   "source": [
    "x_bar1 = 10\n",
    "sigma_1 = 2\n",
    "n_1 = 60\n",
    "\n",
    "x_bar2 = 12\n",
    "sigma_2 = 2.5\n",
    "n_2 = 70\n",
    "\n",
    "Z = (x_bar1 - x_bar2) / np.sqrt(np.square(sigma_1)/n_1 + np.square(sigma_2)/n_2)\n",
    "Z"
   ]
  },
  {
   "cell_type": "markdown",
   "id": "84208e3d-a03d-40f9-a305-ec6a74f5f61b",
   "metadata": {},
   "source": [
    "##### __Observation:__\n",
    "\n",
    "- Here, __Z statistic__ is coming as -5.06 which lies inside the acceptance region or confidence interval between `-1.96` to `1.96`.\n",
    "- Hence, we reject the null hypothesis.\n",
    "- So, there is no significant difference between the two medicines' effectiveness, i.e. they are same effect in reducing the blood pressure of the patients."
   ]
  },
  {
   "cell_type": "markdown",
   "id": "21810d1f-42f5-4e3e-9f0f-18867b541fb1",
   "metadata": {},
   "source": [
    "### __Question 5__\n",
    "\n",
    "An organisation claims that a new battery lasts longer than 50 hours on  average. A researcher collects 30 samples and the sample average hours is 52. Population std. deviation is 4 hours. Significance level is 5%. Perform hypothesis testing to verify the claim. Perform a Right-tailed test."
   ]
  },
  {
   "cell_type": "markdown",
   "id": "22bde59b-d6fd-41e1-b855-594996de0643",
   "metadata": {},
   "source": [
    "#### __Solution:__\n",
    "\n",
    "- It is a right-tailed test.\n",
    "- It is a one-sample test.\n",
    "- It qualifies for Z-test as sample size > 30 and population standard deviation is known."
   ]
  },
  {
   "cell_type": "code",
   "execution_count": 46,
   "id": "6967c58d-3982-4c67-8e0f-6a8ccea9077b",
   "metadata": {},
   "outputs": [
    {
     "data": {
      "text/plain": [
       "2.7386127875258306"
      ]
     },
     "execution_count": 46,
     "metadata": {},
     "output_type": "execute_result"
    }
   ],
   "source": [
    "x_bar = 52\n",
    "mu = 50\n",
    "sigma = 4\n",
    "n = 30\n",
    "\n",
    "Z = (x_bar - mu) / (sigma/np.sqrt(n))\n",
    "Z"
   ]
  },
  {
   "cell_type": "markdown",
   "id": "b3722c47-458a-4fae-a2e8-8ca282ae6ef2",
   "metadata": {},
   "source": [
    "##### __Observation:__\n",
    "\n",
    "- Here, Z value for 2.73 is 0.032.\n",
    "- P-value will be 0.0032 as it is right-tailed.\n",
    "- Alpha is 0.05.\n",
    "- Here, we are considering area under the curve and 0.0032 < 0.05, hence we reject the null hypothesis.\n",
    "- So, the claim made by the company about 50 hours average battery life is incorrect. "
   ]
  },
  {
   "cell_type": "markdown",
   "id": "178a0190-5e89-437e-b982-0f9807c98e95",
   "metadata": {},
   "source": [
    "### __Question 6__\n",
    "\n",
    "A teacher claims that average score of students in class is 80. 10 students were picked up at random and average scores were $[75,78,82,79,81,77,84,76,80,83]$. At significance level of 5%. Peform hypothesis testing that the claim is correct.\n",
    "\n",
    "- Null Hypothesis: mu = 80\n",
    "- Alternate Hypothesis: mu $\\neq$ 80"
   ]
  },
  {
   "cell_type": "markdown",
   "id": "a81346c1-03bd-4f5c-a3ca-c305a507805f",
   "metadata": {},
   "source": [
    "#### __Solution:__\n",
    "\n",
    "- It is a two-tailed and 1-sample test.\n",
    "- It qualifies for T-test as sample size is < 30 and population std. deviation is not known.\n",
    "- Since, it is a two-tailed test, degrees of freedom (df) will be 9, alpha = 0.05, T-critical will be 2.262.\n",
    "- So, T value will be __-2.262__ to __2.262__. ($T_{critical}$)"
   ]
  },
  {
   "cell_type": "code",
   "execution_count": 134,
   "id": "3127ca22-4bff-4aff-bc7e-f5f12f5e4038",
   "metadata": {},
   "outputs": [
    {
     "name": "stdout",
     "output_type": "stream",
     "text": [
      "t:  -0.5504818825631803\n",
      "p_value:  0.5953858958226808\n",
      "Fail to reject the null hypothesis. No significant difference between the sample and population mean.\n"
     ]
    }
   ],
   "source": [
    "scores = np.array([75,78,82,79,81,77,84,76,80,83])\n",
    "x_bar = np.mean(scores)\n",
    "mu = 80\n",
    "n = 10\n",
    "s = np.std(scores)\n",
    "alpha = 0.05\n",
    "\n",
    "T = (x_bar - mu) / (s/np.sqrt(n))\n",
    "print(\"t: \", T)\n",
    "\n",
    "# Since, it is a two-tailed test, we need to multiply the p_value twice\n",
    "p_value = t.cdf(T, df = n - 1) * 2\n",
    "print(\"p_value: \", p_value)\n",
    "\n",
    "if p_value < alpha:\n",
    "    print(\"Reject the null hypothesis. The sample mean is significantly different from the population mean.\")\n",
    "else:\n",
    "    print(\"Fail to reject the null hypothesis. No significant difference between the sample and population mean.\")"
   ]
  },
  {
   "cell_type": "markdown",
   "id": "e361ad01-6593-4201-a2ec-c5ae62aaf393",
   "metadata": {},
   "source": [
    "##### __Observation:__\n",
    "\n",
    "- T = -0.55, alpha = 0.05\n",
    "- Since, T is falling inside the T critical range, we will accept the null hypothesis.\n",
    "- Since p_value > alpha, it means area under the curve is greater than the threshold, hence we fail to reject the null hypothesis.\n",
    "- So, the claim made by the teacher regarding average scores being 80 is correct."
   ]
  },
  {
   "cell_type": "markdown",
   "id": "615523fb-15e5-41a6-9935-8d5f8bb9bcad",
   "metadata": {},
   "source": [
    "### __Question 7__\n",
    "\n",
    "A researcher claims that time to solve a puzzle is less than 15 minutes. 10 participants were picked up at random and sample mean to solve puzzle is 14 mins and standard deviation is 2 mins. Perform hypothesis testing to verify the claim. Significance level is 5%.\n",
    "\n",
    "- Null Hypothesis: mu $\\geq$ 15 mins\n",
    "- Alternate Hypothesis: mu < 15 mins"
   ]
  },
  {
   "cell_type": "markdown",
   "id": "45718f5a-87ab-437a-b755-1f3eb662acf9",
   "metadata": {},
   "source": [
    "#### __Solution__\n",
    "\n",
    "- It is a 1-sample test.\n",
    "- It is a left-tailed test as we are checking the value less than the mean as part of alternative hypothesis."
   ]
  },
  {
   "cell_type": "code",
   "execution_count": 132,
   "id": "f5cd4210-f58f-44ec-a2b5-0ea4ec4eba30",
   "metadata": {},
   "outputs": [
    {
     "name": "stdout",
     "output_type": "stream",
     "text": [
      "t:  -1.5811388300841895\n",
      "p_value:  0.07415235368327971\n",
      "Fail to reject the null hypothesis. No significant difference between the sample and population mean.\n"
     ]
    }
   ],
   "source": [
    "x_bar = 14\n",
    "mu = 15\n",
    "n = 10\n",
    "s = 2\n",
    "alpha = 0.05\n",
    "\n",
    "T = (x_bar - mu) / (s/np.sqrt(n))\n",
    "print(\"t: \", T)\n",
    "\n",
    "p_value = t.cdf(T, df = n - 1)\n",
    "print(\"p_value: \", p_value)\n",
    "\n",
    "if p_value < alpha:\n",
    "    print(\"Reject the null hypothesis. The sample mean is significantly different from the population mean.\")\n",
    "else:\n",
    "    print(\"Fail to reject the null hypothesis. No significant difference between the sample and population mean.\")"
   ]
  },
  {
   "cell_type": "markdown",
   "id": "c43e53ef-bcb6-492c-8140-7bdbaa18f03b",
   "metadata": {},
   "source": [
    "##### __Observation:__\n",
    "\n",
    "- p_value is 0.074, alpha is 0.05\n",
    "- Since p_value > alpha, it means area under the curve is greater than the threshold, hence we fail to reject the null hypothesis.\n",
    "- Hence, we accept the null hypothesis.\n",
    "- So, the claim made by the researcher about mean puzzle time being 15 mins is correct."
   ]
  },
  {
   "cell_type": "markdown",
   "id": "4c374033-9374-445e-91d5-2c94ae06944d",
   "metadata": {},
   "source": [
    "### __Question 8__\n",
    "\n",
    "A company claims that a worker on an average earns 50 dollars/hour. 8 workers were sampled at random and their salaries were $[48,51,49,50,47,52,49,48]$. Significance level is 1%. Test the claim using hypothesis testing.\n",
    "\n",
    "- Null hypothesis: mu = 50\n",
    "- Alternative hypothesis: mu $\\neq$ 50"
   ]
  },
  {
   "cell_type": "markdown",
   "id": "b8717e6d-cf2e-423b-ba9c-96cc3f4ef2d0",
   "metadata": {},
   "source": [
    "#### __Solution:__\n",
    "\n",
    "- It is a 1-sample and two-tailed test.\n",
    "- Using T-test.\n",
    "- Alpha = 0.01"
   ]
  },
  {
   "cell_type": "code",
   "execution_count": 140,
   "id": "e2e4b89b-a1c5-420a-8205-e38707e0a3af",
   "metadata": {},
   "outputs": [
    {
     "name": "stdout",
     "output_type": "stream",
     "text": [
      "t:  -1.358732440973515\n",
      "p_value:  0.21638711240256153\n",
      "Fail to reject the null hypothesis. No significant difference between the sample and population mean.\n"
     ]
    }
   ],
   "source": [
    "salaries = np.array([48,51,49,50,47,52,49,48])\n",
    "x_bar = np.mean(salaries)\n",
    "mu = 50\n",
    "s = np.std(salaries)\n",
    "n = 8\n",
    "alpha = 0.01\n",
    "\n",
    "T = (x_bar - mu) / (s/np.sqrt(n))\n",
    "print(\"t: \", T)\n",
    "\n",
    "# Since, it is a two-tailed test, we need to multiply the p_value twice\n",
    "p_value = 2 * t.cdf(T, df = n - 1)\n",
    "print(\"p_value: \", p_value)\n",
    "\n",
    "if p_value < alpha:\n",
    "    print(\"Reject the null hypothesis. The sample mean is significantly different from the population mean.\")\n",
    "else:\n",
    "    print(\"Fail to reject the null hypothesis. No significant difference between the sample and population mean.\")"
   ]
  },
  {
   "cell_type": "markdown",
   "id": "3782754e-1a19-4754-a92b-00d1f4c93880",
   "metadata": {},
   "source": [
    "##### __Observation:__\n",
    "\n",
    "- p_value is 0.211, alpha is 0.01\n",
    "- Since p_value > alpha, it means area under the curve is greater than the threshold, hence we fail to reject the null hypothesis.\n",
    "- Hence, we accept the null hypothesis.\n",
    "- So, the claim made by the company regarding average worker salary as 50 dollars/hour is correct."
   ]
  },
  {
   "cell_type": "code",
   "execution_count": null,
   "id": "f0536981-65c7-4a59-979c-be30b00c35b1",
   "metadata": {},
   "outputs": [],
   "source": []
  },
  {
   "cell_type": "code",
   "execution_count": null,
   "id": "9342a822-6cc9-45b5-9073-b41295b556ea",
   "metadata": {},
   "outputs": [],
   "source": []
  },
  {
   "cell_type": "code",
   "execution_count": null,
   "id": "b55d6418-b34c-4e1b-a701-83f936541a24",
   "metadata": {},
   "outputs": [],
   "source": []
  },
  {
   "cell_type": "code",
   "execution_count": null,
   "id": "2ca8cd8f-f2d3-4294-a870-4b7c8f0574a3",
   "metadata": {},
   "outputs": [],
   "source": []
  },
  {
   "cell_type": "code",
   "execution_count": null,
   "id": "eea2da89-7784-4a41-8550-a590e091f4f8",
   "metadata": {},
   "outputs": [],
   "source": []
  },
  {
   "cell_type": "code",
   "execution_count": null,
   "id": "8eee124a-852e-4d1d-a6d0-3db01d2f1b78",
   "metadata": {},
   "outputs": [],
   "source": []
  },
  {
   "cell_type": "code",
   "execution_count": null,
   "id": "3ca5816a-ac3a-4475-a83d-947067e3054f",
   "metadata": {},
   "outputs": [],
   "source": []
  },
  {
   "cell_type": "code",
   "execution_count": null,
   "id": "1c8ee6b7-90ba-43c6-a1cd-06d30e5f7862",
   "metadata": {},
   "outputs": [],
   "source": []
  },
  {
   "cell_type": "code",
   "execution_count": null,
   "id": "739d35e5-3ef1-4577-b9a3-d6cc4e53534d",
   "metadata": {},
   "outputs": [],
   "source": []
  },
  {
   "cell_type": "code",
   "execution_count": null,
   "id": "d1646dc3-13e3-4487-bd74-8dd0736366d7",
   "metadata": {},
   "outputs": [],
   "source": []
  },
  {
   "cell_type": "code",
   "execution_count": null,
   "id": "341c71ab-3c7b-4a60-af08-0f87bbb98b06",
   "metadata": {},
   "outputs": [],
   "source": []
  },
  {
   "cell_type": "code",
   "execution_count": null,
   "id": "3f827f19-0aa0-4e67-a053-eee7ea9b44ec",
   "metadata": {},
   "outputs": [],
   "source": []
  },
  {
   "cell_type": "code",
   "execution_count": null,
   "id": "bd25a750-320a-48f1-b082-65191df7009c",
   "metadata": {},
   "outputs": [],
   "source": []
  },
  {
   "cell_type": "code",
   "execution_count": null,
   "id": "38c33c2c-05ec-462e-8530-9e3740a50cfa",
   "metadata": {},
   "outputs": [],
   "source": []
  },
  {
   "cell_type": "code",
   "execution_count": null,
   "id": "99d5d178-ee9c-4b2a-ab30-5b1f43fba08b",
   "metadata": {},
   "outputs": [],
   "source": []
  },
  {
   "cell_type": "code",
   "execution_count": null,
   "id": "021129a4-101a-4bbd-a535-4d9b4f52d51e",
   "metadata": {},
   "outputs": [],
   "source": []
  },
  {
   "cell_type": "code",
   "execution_count": null,
   "id": "aa3d7e7f-b839-4c8b-8ba7-7dfe3c7bde6e",
   "metadata": {},
   "outputs": [],
   "source": []
  },
  {
   "cell_type": "code",
   "execution_count": null,
   "id": "38b370e4-d951-4df1-8089-a524da3895c8",
   "metadata": {},
   "outputs": [],
   "source": []
  },
  {
   "cell_type": "code",
   "execution_count": null,
   "id": "682b6f05-3cef-44f0-b2dc-f8b89e949e9a",
   "metadata": {},
   "outputs": [],
   "source": []
  },
  {
   "cell_type": "code",
   "execution_count": null,
   "id": "80ce6b7b-e2fb-4b46-8440-5fadd950e879",
   "metadata": {},
   "outputs": [],
   "source": []
  },
  {
   "cell_type": "code",
   "execution_count": null,
   "id": "144df5a5-b6c6-4bd5-9f01-195ea9437f28",
   "metadata": {},
   "outputs": [],
   "source": []
  },
  {
   "cell_type": "code",
   "execution_count": null,
   "id": "fc7d9c9a-439f-47e9-bd52-a45fc7b5a10d",
   "metadata": {},
   "outputs": [],
   "source": []
  },
  {
   "cell_type": "code",
   "execution_count": null,
   "id": "91ad05c6-e69c-4f40-bb8b-640f75d85c47",
   "metadata": {},
   "outputs": [],
   "source": []
  },
  {
   "cell_type": "code",
   "execution_count": null,
   "id": "e361864d-a652-47b3-8f92-8310b1169441",
   "metadata": {},
   "outputs": [],
   "source": []
  },
  {
   "cell_type": "code",
   "execution_count": null,
   "id": "a3a02c10-fb64-4b51-b46b-e9608378d192",
   "metadata": {},
   "outputs": [],
   "source": []
  },
  {
   "cell_type": "code",
   "execution_count": null,
   "id": "70bfbe0a-2b20-4711-aa6c-6d514015a579",
   "metadata": {},
   "outputs": [],
   "source": []
  },
  {
   "cell_type": "code",
   "execution_count": null,
   "id": "2ce3efc5-1d2b-4337-bce8-088e4331c7e4",
   "metadata": {},
   "outputs": [],
   "source": []
  },
  {
   "cell_type": "code",
   "execution_count": null,
   "id": "91c9e3d0-e4e7-42cd-b698-d3ff2bc1f361",
   "metadata": {},
   "outputs": [],
   "source": []
  },
  {
   "cell_type": "code",
   "execution_count": null,
   "id": "82d70c3d-4a75-439f-aac9-d3ebe1653094",
   "metadata": {},
   "outputs": [],
   "source": []
  },
  {
   "cell_type": "code",
   "execution_count": null,
   "id": "ee2cf891-18a6-4495-a4ab-43028fa58b36",
   "metadata": {},
   "outputs": [],
   "source": []
  },
  {
   "cell_type": "code",
   "execution_count": null,
   "id": "66d6e5b9-1d39-4c83-b161-140b0259f482",
   "metadata": {},
   "outputs": [],
   "source": []
  },
  {
   "cell_type": "code",
   "execution_count": null,
   "id": "02e22c19-db0d-42b9-b7f0-84d141893b39",
   "metadata": {},
   "outputs": [],
   "source": []
  },
  {
   "cell_type": "code",
   "execution_count": null,
   "id": "da3f2862-1e53-4dee-9c3f-a33f263eaa98",
   "metadata": {},
   "outputs": [],
   "source": []
  },
  {
   "cell_type": "code",
   "execution_count": null,
   "id": "2b904ee3-1273-4d44-94cd-c9d80ee7d5c3",
   "metadata": {},
   "outputs": [],
   "source": []
  },
  {
   "cell_type": "code",
   "execution_count": null,
   "id": "8cfd8435-67e1-4173-9fee-5ab220d8609a",
   "metadata": {},
   "outputs": [],
   "source": []
  },
  {
   "cell_type": "code",
   "execution_count": null,
   "id": "59deb5b6-8d4f-404e-bb3a-5daaa7ec4366",
   "metadata": {},
   "outputs": [],
   "source": []
  }
 ],
 "metadata": {
  "kernelspec": {
   "display_name": "Python 3 (ipykernel)",
   "language": "python",
   "name": "python3"
  },
  "language_info": {
   "codemirror_mode": {
    "name": "ipython",
    "version": 3
   },
   "file_extension": ".py",
   "mimetype": "text/x-python",
   "name": "python",
   "nbconvert_exporter": "python",
   "pygments_lexer": "ipython3",
   "version": "3.12.7"
  }
 },
 "nbformat": 4,
 "nbformat_minor": 5
}
