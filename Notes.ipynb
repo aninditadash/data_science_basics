{
 "cells": [
  {
   "cell_type": "markdown",
   "id": "8577030f-a70e-46aa-947b-7a5ef65d02a1",
   "metadata": {},
   "source": [
    "\n",
    "\n",
    "__Confidence interval:__ It is the range within which you expect the population parameter to be. Two main situations when we calculate the confidence intervals for a population - when the population variance is known and when it is unknown. Depending on that, we will use a different calculation method. For a 90% CI, the Z-Score is `1.645`, for a 95% CI, the Z-Score is `1.96` and for a 99% CI, the Z-Score is `2.576`. When the Confidence level (1 - α) is smaller, then CI is smaller. When the Confidence level (1 - α) is higher, then CI is larger. \n",
    "- The z-statistic is associated with Standard Normal Distribution, the T-statistic is associated with Stuent's T-Distribution.\n",
    "- When we know the population variance, we get a narrower confidence interval, when we dont know the population variance, there is a higher uncertainty that is reflected by wider boundaries for the interval.\n",
    "\n",
    "__Margin of Error (ME):__ CI can be summarized as: the true population mean falls in the interval defined by the sample mean plus minus the margin of error. Smaller ME means narrower CI and larger ME means wider CI. To control the margin of error, we have 3 variables, \n",
    "1. the Z or T statistic   (present in numerator)\n",
    "2. the Standard deviaion (present in numerator)\n",
    "3. Sample size  (present in denominator)\n",
    "- So, smaller statistic / standard deviation and larger sample size will reduce the ME.\n",
    "- A higher confidence level leads to a larger margin of error and a wider confidence interval. This is because increasing the confidence level means we require a greater degree of certainty that the interval contains the true population parameter, which results in a broader range to capture more potential values.\n",
    "\n",
    "__Dependent and Independent Samples:__ \n",
    "Dependent Samples: Before and after situation, cause and effect.\n",
    "Independent Samples: Where population variance is known, population variance is unknown but assumed to be equal, and population variance is unknown but assumed to be different.\n",
    "\n",
    "\n",
    "\n"
   ]
  },
  {
   "cell_type": "markdown",
   "id": "cb2178b9-8c0a-4b6d-b66c-620db6aab908",
   "metadata": {},
   "source": []
  },
  {
   "cell_type": "markdown",
   "id": "7d98a769-bb8f-486c-b9c4-0eb549769699",
   "metadata": {},
   "source": []
  },
  {
   "cell_type": "markdown",
   "id": "190b8f3b-64e7-4922-8d31-5890df16c68b",
   "metadata": {},
   "source": []
  },
  {
   "cell_type": "markdown",
   "id": "9d53d39b-2b09-4040-8497-354b2f0f6bc2",
   "metadata": {},
   "source": []
  },
  {
   "cell_type": "markdown",
   "id": "62666e5b-d3e8-4b0f-b4ff-15ba3ee5e7d5",
   "metadata": {},
   "source": []
  },
  {
   "cell_type": "code",
   "execution_count": 1,
   "id": "7cc9f638-edcc-4fff-90e9-91519b6621eb",
   "metadata": {},
   "outputs": [],
   "source": [
    "import numpy as np\n",
    "import pandas as pd"
   ]
  },
  {
   "cell_type": "markdown",
   "id": "9b52e74a-951d-459a-aaca-d1359f8c9716",
   "metadata": {},
   "source": [
    "### __Question__\n",
    "\n",
    "A nutritionist wants to estimate the average daily caloric intake of adults in a specific city. She collects data from a random sample of 40 adults, and their average daily caloric intake is 2,500 calories with a standard deviation of 400 calories. Construct a 95% confidence interval for the population mean daily caloric intake of adults in this city. Which of the following is the correct 95% confidence interval?"
   ]
  },
  {
   "cell_type": "code",
   "execution_count": 4,
   "id": "8558edff-fe91-4693-b69e-6243c1b3b600",
   "metadata": {},
   "outputs": [
    {
     "name": "stdout",
     "output_type": "stream",
     "text": [
      "Confidence interval level: 2376.0387157213995 - 2623.9612842786005\n"
     ]
    }
   ],
   "source": [
    "n = 40\n",
    "x_bar = 2500\n",
    "s = 400\n",
    "alpha = 0.05\n",
    "\n",
    "# Since, alpha is 0.05, i.e, for a 95% Confidence interval\n",
    "Z_critical = 1.96\n",
    "\n",
    "# Standard Error\n",
    "SE = s / np.sqrt(n)\n",
    "\n",
    "# Confidence level = sample mean (+/-) (Z * SE)\n",
    "lower_CI = x_bar - (Z_critical * SE)\n",
    "upper_CI = x_bar + (Z_critical * SE)\n",
    "\n",
    "print(f\"Confidence interval level: {lower_CI} - {upper_CI}\")"
   ]
  },
  {
   "cell_type": "markdown",
   "id": "8d17c9fa-2746-405f-aa1b-0cef26c67faf",
   "metadata": {},
   "source": [
    "### __Question__\n",
    "\n",
    "You collected a sample of 12 customer monthly spendings with a sample mean of `$120` and a sample standard deviation of `$15`. Using a 95% confidence level and the t-distribution, what is the 95% confidence interval for the true average monthly spending?"
   ]
  },
  {
   "cell_type": "code",
   "execution_count": 5,
   "id": "508253b4-f109-49da-82ce-d5dec4966d40",
   "metadata": {},
   "outputs": [
    {
     "name": "stdout",
     "output_type": "stream",
     "text": [
      "Confidence interval level: 110.46939043135225 - 129.53060956864775\n"
     ]
    }
   ],
   "source": [
    "n = 12\n",
    "x_bar = 120\n",
    "s = 15\n",
    "df = n - 1\n",
    "\n",
    "# So, T value will be 11, alpha/2 = 0.025\n",
    "T_critical = 2.201\n",
    "\n",
    "# Standard Error\n",
    "SE = s / np.sqrt(n)\n",
    "\n",
    "# Confidence level = sample mean (+/-) (Z * SE)\n",
    "lower_CI = x_bar - (T_critical * SE)\n",
    "upper_CI = x_bar + (T_critical * SE)\n",
    "\n",
    "print(f\"Confidence interval level: {lower_CI} - {upper_CI}\")"
   ]
  },
  {
   "cell_type": "code",
   "execution_count": null,
   "id": "69a15703-ef83-4f2f-bd40-cdb6516a6922",
   "metadata": {},
   "outputs": [],
   "source": []
  },
  {
   "cell_type": "code",
   "execution_count": null,
   "id": "3072c329-ab05-4442-9f69-bb0e4e67bd75",
   "metadata": {},
   "outputs": [],
   "source": []
  },
  {
   "cell_type": "code",
   "execution_count": null,
   "id": "968616b5-10c4-43a2-83f0-94dddf3ac941",
   "metadata": {},
   "outputs": [],
   "source": []
  },
  {
   "cell_type": "code",
   "execution_count": null,
   "id": "067ab0c2-a9b8-41fb-bbdb-0f627038045b",
   "metadata": {},
   "outputs": [],
   "source": []
  }
 ],
 "metadata": {
  "kernelspec": {
   "display_name": "Python 3 (ipykernel)",
   "language": "python",
   "name": "python3"
  },
  "language_info": {
   "codemirror_mode": {
    "name": "ipython",
    "version": 3
   },
   "file_extension": ".py",
   "mimetype": "text/x-python",
   "name": "python",
   "nbconvert_exporter": "python",
   "pygments_lexer": "ipython3",
   "version": "3.12.10"
  }
 },
 "nbformat": 4,
 "nbformat_minor": 5
}
